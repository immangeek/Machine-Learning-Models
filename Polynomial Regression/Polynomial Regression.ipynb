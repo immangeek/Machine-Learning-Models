{
 "cells": [
  {
   "cell_type": "markdown",
   "id": "f22bd780",
   "metadata": {},
   "source": [
    "# Importing Libary"
   ]
  },
  {
   "cell_type": "code",
   "execution_count": 4,
   "id": "519cab71",
   "metadata": {},
   "outputs": [],
   "source": [
    "import pandas as pd\n",
    "import numpy as np\n",
    "import matplotlib.pyplot as plt"
   ]
  },
  {
   "cell_type": "code",
   "execution_count": 5,
   "id": "82733cb3",
   "metadata": {},
   "outputs": [],
   "source": [
    "#Importing Dataset\n",
    "df = pd.read_csv(\"Position_Salaries.csv\")"
   ]
  },
  {
   "cell_type": "code",
   "execution_count": 6,
   "id": "3e561003",
   "metadata": {},
   "outputs": [
    {
     "data": {
      "text/html": [
       "<div>\n",
       "<style scoped>\n",
       "    .dataframe tbody tr th:only-of-type {\n",
       "        vertical-align: middle;\n",
       "    }\n",
       "\n",
       "    .dataframe tbody tr th {\n",
       "        vertical-align: top;\n",
       "    }\n",
       "\n",
       "    .dataframe thead th {\n",
       "        text-align: right;\n",
       "    }\n",
       "</style>\n",
       "<table border=\"1\" class=\"dataframe\">\n",
       "  <thead>\n",
       "    <tr style=\"text-align: right;\">\n",
       "      <th></th>\n",
       "      <th>Position</th>\n",
       "      <th>Level</th>\n",
       "      <th>Salary</th>\n",
       "    </tr>\n",
       "  </thead>\n",
       "  <tbody>\n",
       "    <tr>\n",
       "      <th>0</th>\n",
       "      <td>Business Analyst</td>\n",
       "      <td>1</td>\n",
       "      <td>45000</td>\n",
       "    </tr>\n",
       "    <tr>\n",
       "      <th>1</th>\n",
       "      <td>Junior Consultant</td>\n",
       "      <td>2</td>\n",
       "      <td>50000</td>\n",
       "    </tr>\n",
       "    <tr>\n",
       "      <th>2</th>\n",
       "      <td>Senior Consultant</td>\n",
       "      <td>3</td>\n",
       "      <td>60000</td>\n",
       "    </tr>\n",
       "    <tr>\n",
       "      <th>3</th>\n",
       "      <td>Manager</td>\n",
       "      <td>4</td>\n",
       "      <td>80000</td>\n",
       "    </tr>\n",
       "    <tr>\n",
       "      <th>4</th>\n",
       "      <td>Country Manager</td>\n",
       "      <td>5</td>\n",
       "      <td>110000</td>\n",
       "    </tr>\n",
       "  </tbody>\n",
       "</table>\n",
       "</div>"
      ],
      "text/plain": [
       "            Position  Level  Salary\n",
       "0   Business Analyst      1   45000\n",
       "1  Junior Consultant      2   50000\n",
       "2  Senior Consultant      3   60000\n",
       "3            Manager      4   80000\n",
       "4    Country Manager      5  110000"
      ]
     },
     "execution_count": 6,
     "metadata": {},
     "output_type": "execute_result"
    }
   ],
   "source": [
    "df.head()"
   ]
  },
  {
   "cell_type": "code",
   "execution_count": 9,
   "id": "ff3afa4c",
   "metadata": {},
   "outputs": [],
   "source": [
    "#Extracting Independent and dependet variable\n",
    "x = df.iloc[:,1:2].values\n",
    "y = df.iloc[:,2].values\n"
   ]
  },
  {
   "cell_type": "markdown",
   "id": "ac9ccc29",
   "metadata": {},
   "source": [
    "# Building Linear Regression Model "
   ]
  },
  {
   "cell_type": "code",
   "execution_count": 34,
   "id": "f926af06",
   "metadata": {},
   "outputs": [
    {
     "data": {
      "text/plain": [
       "LinearRegression()"
      ]
     },
     "execution_count": 34,
     "metadata": {},
     "output_type": "execute_result"
    }
   ],
   "source": [
    "#fitting the linear regression to the dataset\n",
    "from sklearn.linear_model import LinearRegression\n",
    "lin_regs = LinearRegression()\n",
    "lin_regs.fit(x,y)"
   ]
  },
  {
   "cell_type": "markdown",
   "id": "e5309422",
   "metadata": {},
   "source": [
    "# Building Polynomial Regression Model"
   ]
  },
  {
   "cell_type": "code",
   "execution_count": 23,
   "id": "934f385a",
   "metadata": {},
   "outputs": [
    {
     "data": {
      "text/plain": [
       "LinearRegression()"
      ]
     },
     "execution_count": 23,
     "metadata": {},
     "output_type": "execute_result"
    }
   ],
   "source": [
    "from sklearn.preprocessing import PolynomialFeatures\n",
    "poly_regs = PolynomialFeatures(degree=2)\n",
    "x_poly = poly_regs.fit_transform(x)\n",
    "lin_reg_2 = LinearRegression()\n",
    "lin_reg_2.fit(x_poly,y)\n"
   ]
  },
  {
   "cell_type": "markdown",
   "id": "4337c871",
   "metadata": {},
   "source": [
    "# Visualising Linear Regression"
   ]
  },
  {
   "cell_type": "code",
   "execution_count": 21,
   "id": "596f091c",
   "metadata": {},
   "outputs": [
    {
     "data": {
      "image/png": "[encoded data removed]",
      "text/plain": [
       "<Figure size 432x288 with 1 Axes>"
      ]
     },
     "metadata": {
      "needs_background": "light"
     },
     "output_type": "display_data"
    }
   ],
   "source": [
    "plt.scatter(x,y,color=\"blue\")\n",
    "plt.plot(x,lin_regs.predict(x),color=\"red\")\n",
    "plt.title(\"Bluff detection model(Linear Regression)\")\n",
    "plt.xlabel(\"Position Levels\")\n",
    "plt.ylabel(\"Salary\")\n",
    "plt.show()\n"
   ]
  },
  {
   "cell_type": "markdown",
   "id": "d022df6f",
   "metadata": {},
   "source": [
    "# Visualising Polynomial Regression"
   ]
  },
  {
   "cell_type": "code",
   "execution_count": 24,
   "id": "4542f40e",
   "metadata": {},
   "outputs": [
    {
     "data": {
      "image/png": "[encoded data removed]",
      "text/plain": [
       "<Figure size 432x288 with 1 Axes>"
      ]
     },
     "metadata": {
      "needs_background": "light"
     },
     "output_type": "display_data"
    }
   ],
   "source": [
    "plt.scatter(x,y,color='blue')\n",
    "plt.plot(x,lin_reg_2.predict(poly_regs.fit_transform(x)),color='red')\n",
    "plt.show()"
   ]
  },
  {
   "cell_type": "markdown",
   "id": "3ae3e486",
   "metadata": {},
   "source": [
    "# Using Degree=3"
   ]
  },
  {
   "cell_type": "code",
   "execution_count": 30,
   "id": "56d210fd",
   "metadata": {},
   "outputs": [
    {
     "data": {
      "text/plain": [
       "LinearRegression()"
      ]
     },
     "execution_count": 30,
     "metadata": {},
     "output_type": "execute_result"
    }
   ],
   "source": [
    "from sklearn.preprocessing import PolynomialFeatures\n",
    "poly_regs = PolynomialFeatures(degree=3)\n",
    "x_poly = poly_regs.fit_transform(x)\n",
    "lin_reg_2 = LinearRegression()\n",
    "lin_reg_2.fit(x_poly,y)\n"
   ]
  },
  {
   "cell_type": "code",
   "execution_count": 26,
   "id": "43bb83ad",
   "metadata": {},
   "outputs": [
    {
     "data": {
      "image/png": "[encoded data removed]",
      "text/plain": [
       "<Figure size 432x288 with 1 Axes>"
      ]
     },
     "metadata": {
      "needs_background": "light"
     },
     "output_type": "display_data"
    }
   ],
   "source": [
    "plt.scatter(x,y,color='blue')\n",
    "plt.plot(x,lin_reg_2.predict(poly_regs.fit_transform(x)),color='red')\n",
    "plt.show()"
   ]
  },
  {
   "cell_type": "markdown",
   "id": "065f0626",
   "metadata": {},
   "source": [
    "# Using degree = 4"
   ]
  },
  {
   "cell_type": "code",
   "execution_count": 28,
   "id": "dcc34c7d",
   "metadata": {},
   "outputs": [
    {
     "data": {
      "text/plain": [
       "LinearRegression()"
      ]
     },
     "execution_count": 28,
     "metadata": {},
     "output_type": "execute_result"
    }
   ],
   "source": [
    "from sklearn.preprocessing import PolynomialFeatures\n",
    "poly_regs = PolynomialFeatures(degree=4)\n",
    "x_poly = poly_regs.fit_transform(x)\n",
    "lin_reg_2 = LinearRegression()\n",
    "lin_reg_2.fit(x_poly,y)\n"
   ]
  },
  {
   "cell_type": "code",
   "execution_count": 29,
   "id": "88fa6356",
   "metadata": {},
   "outputs": [
    {
     "data": {
      "image/png": "[encoded data removed]",
      "text/plain": [
       "<Figure size 432x288 with 1 Axes>"
      ]
     },
     "metadata": {
      "needs_background": "light"
     },
     "output_type": "display_data"
    }
   ],
   "source": [
    "plt.scatter(x,y,color='blue')\n",
    "plt.plot(x,lin_reg_2.predict(poly_regs.fit_transform(x)),color='red')\n",
    "plt.show()"
   ]
  },
  {
   "cell_type": "code",
   "execution_count": 41,
   "id": "9e7f87e5",
   "metadata": {},
   "outputs": [
    {
     "name": "stdout",
     "output_type": "stream",
     "text": [
      "[330378.78787879]\n"
     ]
    }
   ],
   "source": [
    "lin_pred = lin_regs.predict([[6.5]])\n",
    "print(lin_pred)"
   ]
  },
  {
   "cell_type": "code",
   "execution_count": 42,
   "id": "2ea0673d",
   "metadata": {},
   "outputs": [
    {
     "name": "stdout",
     "output_type": "stream",
     "text": [
      "[133259.46969697]\n"
     ]
    }
   ],
   "source": [
    "poly_pred = lin_reg_2.predict(poly_regs.fit_transform([[6.5]]))\n",
    "print(poly_pred)"
   ]
  },
  {
   "cell_type": "code",
   "execution_count": null,
   "id": "86bfa204",
   "metadata": {},
   "outputs": [],
   "source": []
  }
 ],
 "metadata": {
  "kernelspec": {
   "display_name": "Python 3",
   "language": "python",
   "name": "python3"
  },
  "language_info": {
   "codemirror_mode": {
    "name": "ipython",
    "version": 3
   },
   "file_extension": ".py",
   "mimetype": "text/x-python",
   "name": "python",
   "nbconvert_exporter": "python",
   "pygments_lexer": "ipython3",
   "version": "3.9.7"
  }
 },
 "nbformat": 4,
 "nbformat_minor": 5
}
